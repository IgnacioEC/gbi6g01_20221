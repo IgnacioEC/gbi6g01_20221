{
 "cells": [
  {
   "cell_type": "markdown",
   "id": "7e68aa13",
   "metadata": {},
   "source": [
    "# TÍTULO\n",
    "## SUBTITULO\n",
    "### SUBTITULO DE NIVEL 3\n",
    "Se escribe el texto de los párrafos"
   ]
  },
  {
   "cell_type": "markdown",
   "id": "da32f0cc",
   "metadata": {},
   "source": [
    "# GBI6 - BIOINFORMÁTICA\n",
    "## Unidad 2 - Python\n",
    "### Tema 2 - Condicionales y Bucles\n",
    "Las condicionales son:\n",
    "- Condicional if simple\n",
    "- Condicional if else\n",
    "- Condicional if anidado ```if if if```\n",
    "\n",
    "Los bucles son:\n",
    "1. Bucle while\n",
    "2. Bucle for\n",
    "\n",
    "El bucle **while** es una estructura de control que se ejecuta mientras una *condición se cumple*."
   ]
  },
  {
   "cell_type": "markdown",
   "id": "b38fcad0",
   "metadata": {},
   "source": [
    "# VARIABLES DE TEXTO \n",
    "\n",
    "Las variables de texto son aquellos que tienen información de caracteres limitados con ```\" \"``` (comillas)"
   ]
  },
  {
   "cell_type": "code",
   "execution_count": 1,
   "id": "3dc78559",
   "metadata": {},
   "outputs": [],
   "source": [
    "seq = \"ATCTCGTATGCTA\""
   ]
  },
  {
   "cell_type": "code",
   "execution_count": 2,
   "id": "0bdce2ca",
   "metadata": {},
   "outputs": [
    {
     "data": {
      "text/plain": [
       "'ATCTCGTATGCTA'"
      ]
     },
     "execution_count": 2,
     "metadata": {},
     "output_type": "execute_result"
    }
   ],
   "source": [
    "seq"
   ]
  },
  {
   "cell_type": "markdown",
   "id": "0b55a4d7",
   "metadata": {},
   "source": [
    "A continuación vamos a crear variables y a operar con ellas"
   ]
  },
  {
   "cell_type": "code",
   "execution_count": 1,
   "id": "6dbf6f8e",
   "metadata": {},
   "outputs": [
    {
     "name": "stdout",
     "output_type": "stream",
     "text": [
      "Hola Mundo\n",
      "z es:  0\n"
     ]
    }
   ],
   "source": [
    "print(\"Hola Mundo\")\n",
    "x = 3\n",
    "y = 2\n",
    "z = 2*x -3*y\n",
    "\n",
    "print(\"z es: \", z)"
   ]
  },
  {
   "cell_type": "markdown",
   "id": "ef779670",
   "metadata": {},
   "source": [
    "La función ```print``` imprime en la pantalla el contenido delimitado por ```()```,\n",
    "En phyton todo se ejecuta línea por línea, siempre las variables deben ser creadas previamente\n",
    "si se desea operar con ellas."
   ]
  },
  {
   "cell_type": "markdown",
   "id": "140df436",
   "metadata": {},
   "source": [
    "### Sintaxis\n",
    "* Sintaxis sencilla, parecida al inglés.\n",
    "* Énfasis en facilitar la lectura del código.\n",
    "* Todas las líneas terminan en un solo salto de la línea (no hace falta ```;```).\n",
    "    * Para continuar en la línea se utiliza ```\\```.\n",
    "* Los comentarios comienzan por un ```#```.\n",
    "\n",
    "* Un programa en Python se compone de *módulos*.\n",
    "* Los módulos están compuestos por *sentencias*.\n"
   ]
  },
  {
   "cell_type": "code",
   "execution_count": null,
   "id": "71319a2d",
   "metadata": {},
   "outputs": [],
   "source": []
  }
 ],
 "metadata": {
  "kernelspec": {
   "display_name": "Python 3 (ipykernel)",
   "language": "python",
   "name": "python3"
  },
  "language_info": {
   "codemirror_mode": {
    "name": "ipython",
    "version": 3
   },
   "file_extension": ".py",
   "mimetype": "text/x-python",
   "name": "python",
   "nbconvert_exporter": "python",
   "pygments_lexer": "ipython3",
   "version": "3.9.12"
  }
 },
 "nbformat": 4,
 "nbformat_minor": 5
}
