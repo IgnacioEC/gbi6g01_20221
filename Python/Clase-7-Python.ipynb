{
 "cells": [
  {
   "cell_type": "markdown",
   "id": "a93e0037",
   "metadata": {},
   "source": [
    "<img src=\"https://www.ikiam.edu.ec/img/logo-ikiam-grey.png\" width=350 height=300 />\n",
    "\n",
    "## <center><h2> INGENIERÍA EN BIOTECNOLOGÍA </h2></center>\n",
    "# <center><h1 style=\"color:blue\">GBI6 - BIOINFORMÁTICA</h1></center>\n",
    "\n",
    "<center> Este texto va ir centrado </center>\n",
    "<table>\n",
    "  <tr>\n",
    "    <th>Nombre</th>\n",
    "    <th>Apellido</th>\n",
    "    <th>Edad</th>\n",
    "  </tr>\n",
    "  <tr>\n",
    "    <td>Alejandra</td>\n",
    "    <td>Chavez</td>\n",
    "    <td>22</td>\n",
    "  </tr>\n",
    "  <tr>\n",
    "    <td>Ronald</td>\n",
    "    <td>Basantes</td>\n",
    "    <td>22</td>\n",
    "  </tr>\n",
    "</table>\n",
    "\n",
    "# INTRODUCCIÓN A LA PROGRAMACIÓN EN PHYTON\n",
    "## ¿Por qué programar?\n"
   ]
  },
  {
   "cell_type": "code",
   "execution_count": null,
   "id": "6578eded",
   "metadata": {},
   "outputs": [],
   "source": []
  }
 ],
 "metadata": {
  "kernelspec": {
   "display_name": "Python 3 (ipykernel)",
   "language": "python",
   "name": "python3"
  },
  "language_info": {
   "codemirror_mode": {
    "name": "ipython",
    "version": 3
   },
   "file_extension": ".py",
   "mimetype": "text/x-python",
   "name": "python",
   "nbconvert_exporter": "python",
   "pygments_lexer": "ipython3",
   "version": "3.9.12"
  }
 },
 "nbformat": 4,
 "nbformat_minor": 5
}
