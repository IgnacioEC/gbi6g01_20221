{
  "nbformat": 4,
  "nbformat_minor": 0,
  "metadata": {
    "colab": {
      "name": "Funciones-phyton.ipynb",
      "provenance": [],
      "authorship_tag": "ABX9TyPw+aAvw4QdceVC11T+ppVb",
      "include_colab_link": true
    },
    "kernelspec": {
      "name": "python3",
      "display_name": "Python 3"
    },
    "language_info": {
      "name": "python"
    }
  },
  "cells": [
    {
      "cell_type": "markdown",
      "metadata": {
        "id": "view-in-github",
        "colab_type": "text"
      },
      "source": [
        "<a href=\"https://colab.research.google.com/github/IgnacioEC/gbi6g01_20221/blob/main/Funciones_phyton.ipynb\" target=\"_parent\"><img src=\"https://colab.research.google.com/assets/colab-badge.svg\" alt=\"Open In Colab\"/></a>"
      ]
    },
    {
      "cell_type": "markdown",
      "source": [
        "# FUNCIÓN PARA PHYTON\n",
        "## Códigos\n",
        "\n",
        "input >>> función >>> cutput\n",
        "def nombre función(parámetros): instrucciones\n",
        "<center><h1> return, out1, out2, salidas... </h1></center>"
      ],
      "metadata": {
        "id": "DhLAHHyQ9Lfn"
      }
    },
    {
      "cell_type": "code",
      "execution_count": null,
      "metadata": {
        "id": "bRoNZ-Rl9EV1"
      },
      "outputs": [],
      "source": [
        "def potencia(x,y): \n",
        "  z=x**y\n",
        "  return(z)"
      ]
    },
    {
      "cell_type": "code",
      "source": [
        "potencia(4,5)"
      ],
      "metadata": {
        "colab": {
          "base_uri": "https://localhost:8080/"
        },
        "id": "H4Bz5YRq-8BR",
        "outputId": "e7440ae9-24bd-4054-a0d4-a71706df24d1"
      },
      "execution_count": null,
      "outputs": [
        {
          "output_type": "execute_result",
          "data": {
            "text/plain": [
              "1024"
            ]
          },
          "metadata": {},
          "execution_count": 6
        }
      ]
    },
    {
      "cell_type": "code",
      "source": [
        "potencia(2, potencia(3,2))"
      ],
      "metadata": {
        "colab": {
          "base_uri": "https://localhost:8080/"
        },
        "id": "de29kgNk_5Dg",
        "outputId": "b1d8e62e-8c85-496f-866e-d4393cb082dc"
      },
      "execution_count": null,
      "outputs": [
        {
          "output_type": "execute_result",
          "data": {
            "text/plain": [
              "512"
            ]
          },
          "metadata": {},
          "execution_count": 7
        }
      ]
    },
    {
      "cell_type": "code",
      "source": [
        "def potencia(x=2, y=3):\n",
        "  \"\"\"\n",
        "  Potencia: eleva a la base x el exponente y\n",
        "  x: valor numérico de base\n",
        "  y: valor numérico de exponente\n",
        "  \"\"\"\n",
        "  z=x**y\n",
        "  return(z)"
      ],
      "metadata": {
        "id": "N5yOvjN2__FJ"
      },
      "execution_count": null,
      "outputs": []
    },
    {
      "cell_type": "code",
      "source": [
        "potencia()"
      ],
      "metadata": {
        "colab": {
          "base_uri": "https://localhost:8080/"
        },
        "id": "4wApgV_eA19T",
        "outputId": "6a54e782-f14b-41dd-f453-041eb30d42f4"
      },
      "execution_count": null,
      "outputs": [
        {
          "output_type": "execute_result",
          "data": {
            "text/plain": [
              "8"
            ]
          },
          "metadata": {},
          "execution_count": 13
        }
      ]
    },
    {
      "cell_type": "code",
      "source": [
        "potencia(x=5)"
      ],
      "metadata": {
        "colab": {
          "base_uri": "https://localhost:8080/"
        },
        "id": "davpkbjUCp3h",
        "outputId": "1fee6dee-4e57-44d3-d245-fac01ed69578"
      },
      "execution_count": null,
      "outputs": [
        {
          "output_type": "execute_result",
          "data": {
            "text/plain": [
              "125"
            ]
          },
          "metadata": {},
          "execution_count": 14
        }
      ]
    },
    {
      "cell_type": "code",
      "source": [
        "potencia(y=5)"
      ],
      "metadata": {
        "colab": {
          "base_uri": "https://localhost:8080/"
        },
        "id": "3rd8ADb9DHla",
        "outputId": "6b6751c2-782c-4090-f3c1-5cb7ce2544b6"
      },
      "execution_count": null,
      "outputs": [
        {
          "output_type": "execute_result",
          "data": {
            "text/plain": [
              "32"
            ]
          },
          "metadata": {},
          "execution_count": 15
        }
      ]
    },
    {
      "cell_type": "code",
      "source": [
        "potencia(x=5, y=9)"
      ],
      "metadata": {
        "colab": {
          "base_uri": "https://localhost:8080/"
        },
        "id": "Ul1ZPbFwDOx3",
        "outputId": "45e14f1c-86d6-405d-9d89-9a232c1a0003"
      },
      "execution_count": null,
      "outputs": [
        {
          "output_type": "execute_result",
          "data": {
            "text/plain": [
              "1953125"
            ]
          },
          "metadata": {},
          "execution_count": 16
        }
      ]
    },
    {
      "cell_type": "code",
      "source": [
        "lista1 = [\"DNA\", \"Proteina\", \"Hola\", \"Bioinformatica\"]\n",
        "lista2 = [\"Guanina\", \"Proteina\", \"IKiam\", \"Bioinformatica\"]\n",
        "lista3 = [\"Maria\", \"Bryan\", \"Damaris\", \"Jefferson\"]\n",
        "lista4 = [\"Tena\", \"Quito\", \"Guayaquil\", \"Manta\"]\n",
        "lista5 = [\"DNA\", \"Proteina\", \"Hola\", \"Bioinformatica\"]\n",
        "lista6 = [\"Guanina\", \"Proteina\", \"IKiam\", \"Bioinformatica\"]\n",
        "lista7 = [\"Maria\", \"Bryan\", \"Damaris\", \"Jefferson\"]\n",
        "lista8 = [\"Tena\", \"Quito\", \"Guayaquil\", \"Manta\"]"
      ],
      "metadata": {
        "id": "a757ob1PFGuV"
      },
      "execution_count": null,
      "outputs": []
    },
    {
      "cell_type": "code",
      "source": [
        "def doble_caracteres(lista=[\"Hola\",\"Otorrinolaringologo\"]):\n",
        "  \"\"\"\n",
        "  La función doble_caracteres recibe un argumento \n",
        "  que es una lista y retorna el doble de la longitud\n",
        "  de cada elemento de la lista.\n",
        "  :param lista: lista de elementos\n",
        "  \"\"\"\n",
        "  b=[]\n",
        "  for i in range (len(lista)):\n",
        "    a=2*len(lista[i])\n",
        "    b.append(a)\n",
        "    return b  "
      ],
      "metadata": {
        "id": "9hjVuKq5De2Y"
      },
      "execution_count": null,
      "outputs": []
    },
    {
      "cell_type": "code",
      "source": [
        "l1= doble_caracteres(lista1)\n",
        "l2= doble_caracteres(lista2)\n",
        "l3= doble_caracteres(lista3)\n",
        "l4= doble_caracteres(lista4)\n",
        "l5= doble_caracteres(lista5)\n",
        "l6= doble_caracteres(lista6)\n",
        "l7= doble_caracteres(lista7)\n",
        "l8= doble_caracteres(lista8)"
      ],
      "metadata": {
        "id": "zNJ96BO5F6Kf"
      },
      "execution_count": null,
      "outputs": []
    },
    {
      "cell_type": "code",
      "source": [
        "print(l1, l2, l3, l4, l5, l6, l7, l8)"
      ],
      "metadata": {
        "colab": {
          "base_uri": "https://localhost:8080/"
        },
        "id": "OZskRxxGHKC0",
        "outputId": "2a4773d5-1e3a-4683-a02c-fa48ecf485d0"
      },
      "execution_count": null,
      "outputs": [
        {
          "output_type": "stream",
          "name": "stdout",
          "text": [
            "[6] [14] [10] [8] [6] [14] [10] [8]\n"
          ]
        }
      ]
    },
    {
      "cell_type": "code",
      "source": [
        "listas = [lista1, lista2, lista3, lista4, lista5, lista6, lista7, lista8]\n",
        "dobles = [doble_caracteres(gatito) for gatito in listas] # list Comprehension"
      ],
      "metadata": {
        "id": "EnPTKe4FHjZj"
      },
      "execution_count": null,
      "outputs": []
    },
    {
      "cell_type": "code",
      "source": [
        "dobles"
      ],
      "metadata": {
        "colab": {
          "base_uri": "https://localhost:8080/"
        },
        "id": "baiTl4lUIS1P",
        "outputId": "50a7ae4c-40b7-464e-d145-9d3bf67b86f0"
      },
      "execution_count": null,
      "outputs": [
        {
          "output_type": "execute_result",
          "data": {
            "text/plain": [
              "[[6], [14], [10], [8], [6], [14], [10], [8]]"
            ]
          },
          "metadata": {},
          "execution_count": 57
        }
      ]
    },
    {
      "cell_type": "markdown",
      "source": [
        "* Un argumento es global cuando se guarda y ejecuta desde la memoria por ejemplo: x = 5 o y = potencia(2,3)\n",
        "* Un argumento es local solo mientras se ejecuta la función por ejemplo: \n",
        " * def potencia(a,b)\n",
        "    * z=a°+b°         ##### °=potencia\n",
        "    * return z\n"
      ],
      "metadata": {
        "id": "a19JSik4JrCV"
      }
    },
    {
      "cell_type": "code",
      "source": [
        "def potencia(x, y):\n",
        "  z = x**y\n",
        "  return"
      ],
      "metadata": {
        "id": "7-fMyigWL7Jx"
      },
      "execution_count": null,
      "outputs": []
    },
    {
      "cell_type": "code",
      "source": [
        " def potencia(x,y):\n",
        "  z = x**y\n",
        "  t = y**x\n",
        "  return(z, t)"
      ],
      "metadata": {
        "id": "EJYdGjibLc3k"
      },
      "execution_count": null,
      "outputs": []
    },
    {
      "cell_type": "code",
      "source": [
        "y2 = potencia(3, 2)\n",
        "y2"
      ],
      "metadata": {
        "colab": {
          "base_uri": "https://localhost:8080/"
        },
        "id": "3snZbc0rNTMR",
        "outputId": "8683b81e-9d8e-4aa6-82f7-1fad7173118a"
      },
      "execution_count": null,
      "outputs": [
        {
          "output_type": "execute_result",
          "data": {
            "text/plain": [
              "(9, 8)"
            ]
          },
          "metadata": {},
          "execution_count": 75
        }
      ]
    },
    {
      "cell_type": "code",
      "source": [
        "y3 = potencia(2, 3)\n",
        "print(type(y3))\n",
        "y3"
      ],
      "metadata": {
        "colab": {
          "base_uri": "https://localhost:8080/"
        },
        "id": "dT35ALyaPdpB",
        "outputId": "bbef4c62-28a8-4868-df0e-b92caf77ac9b"
      },
      "execution_count": null,
      "outputs": [
        {
          "output_type": "stream",
          "name": "stdout",
          "text": [
            "<class 'tuple'>\n"
          ]
        },
        {
          "output_type": "execute_result",
          "data": {
            "text/plain": [
              "(8, 9)"
            ]
          },
          "metadata": {},
          "execution_count": 78
        }
      ]
    },
    {
      "cell_type": "code",
      "source": [
        "def accountant(seq=\"ATCG\", dirección)"
      ],
      "metadata": {
        "id": "PTO2uoF-Pgko"
      },
      "execution_count": null,
      "outputs": []
    }
  ]
}