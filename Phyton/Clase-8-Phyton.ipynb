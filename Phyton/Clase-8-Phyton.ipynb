{
 "cells": [
  {
   "cell_type": "markdown",
   "id": "7e68aa13",
   "metadata": {},
   "source": [
    "# TÍTULO\n",
    "## SUBTITULO\n",
    "### SUBTITULO DE NIVEL 3\n",
    "Se escribe el texto de los párrafos"
   ]
  },
  {
   "cell_type": "markdown",
   "id": "77335a81",
   "metadata": {},
   "source": [
    "# GBI6 - BIOINFORMÁTICA\n",
    "## Unidad 2 - Phyton\n",
    "### Tema 2 - Condicionales y Bucles\n",
    "Las condicionales son:\n",
    "- Condicional if simple\n",
    "- Condicional if else\n",
    "- Condicional if anidado ```if if if```\n",
    "\n",
    "Los bucles son:\n",
    "1. Bucle while\n",
    "2. Bucle for\n",
    "\n",
    "El bucle **while** es una estructura de control que se ejecuta mientras una *condición se cumple*."
   ]
  },
  {
   "cell_type": "markdown",
   "id": "b38fcad0",
   "metadata": {},
   "source": [
    "# VARIABLES DE TEXTO \n",
    "\n",
    "Las variables de texto son aquellos que tienen información de caracteres limitados con ```\" \"``` (comillas)"
   ]
  },
  {
   "cell_type": "code",
   "execution_count": 1,
   "id": "3dc78559",
   "metadata": {},
   "outputs": [],
   "source": [
    "seq = \"ATCTCGTATGCTA\""
   ]
  },
  {
   "cell_type": "code",
   "execution_count": 2,
   "id": "0bdce2ca",
   "metadata": {},
   "outputs": [
    {
     "data": {
      "text/plain": [
       "'ATCTCGTATGCTA'"
      ]
     },
     "execution_count": 2,
     "metadata": {},
     "output_type": "execute_result"
    }
   ],
   "source": [
    "seq"
   ]
  },
  {
   "cell_type": "code",
   "execution_count": null,
   "id": "6dbf6f8e",
   "metadata": {},
   "outputs": [],
   "source": []
  }
 ],
 "metadata": {
  "kernelspec": {
   "display_name": "Python 3 (ipykernel)",
   "language": "python",
   "name": "python3"
  },
  "language_info": {
   "codemirror_mode": {
    "name": "ipython",
    "version": 3
   },
   "file_extension": ".py",
   "mimetype": "text/x-python",
   "name": "python",
   "nbconvert_exporter": "python",
   "pygments_lexer": "ipython3",
   "version": "3.9.12"
  }
 },
 "nbformat": 4,
 "nbformat_minor": 5
}
